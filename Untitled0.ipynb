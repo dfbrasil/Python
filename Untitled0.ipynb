{
  "nbformat": 4,
  "nbformat_minor": 0,
  "metadata": {
    "colab": {
      "name": "Untitled0.ipynb",
      "provenance": [],
      "authorship_tag": "ABX9TyMjL2LBciT/fdY0JJcY6YTc",
      "include_colab_link": true
    },
    "kernelspec": {
      "name": "python3",
      "display_name": "Python 3"
    },
    "language_info": {
      "name": "python"
    }
  },
  "cells": [
    {
      "cell_type": "markdown",
      "metadata": {
        "id": "view-in-github",
        "colab_type": "text"
      },
      "source": [
        "<a href=\"https://colab.research.google.com/github/dfbrasil/Python/blob/main/Untitled0.ipynb\" target=\"_parent\"><img src=\"https://colab.research.google.com/assets/colab-badge.svg\" alt=\"Open In Colab\"/></a>"
      ]
    },
    {
      "cell_type": "code",
      "source": [
        "n = (int(input('digite um numero')))\n",
        "m = (int(input('digite outro numero')))\n",
        "#r = m + n\n",
        "print ('a soma de {} mais {} é {}.'.format(n,m,m+n))"
      ],
      "metadata": {
        "colab": {
          "base_uri": "https://localhost:8080/"
        },
        "id": "EcxGBBclw83c",
        "outputId": "90abbf2c-e0af-4a0b-8d6d-fc66b3e919cb"
      },
      "execution_count": 3,
      "outputs": [
        {
          "output_type": "stream",
          "name": "stdout",
          "text": [
            "digite um numero2\n",
            "digite outro numero3\n",
            "a soma de 2 mais 3 é 5.\n"
          ]
        }
      ]
    }
  ]
}